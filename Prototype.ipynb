{
 "cells": [
  {
   "cell_type": "code",
   "execution_count": 1,
   "id": "c4a28364",
   "metadata": {},
   "outputs": [],
   "source": [
    "import csv\n",
    "import requests\n",
    "import json\n",
    "from bs4 import BeautifulSoup\n",
    "import html5lib\n",
    "from tkinter import *\n",
    "from tkinter import ttk"
   ]
  },
  {
   "cell_type": "markdown",
   "id": "a85d063a",
   "metadata": {},
   "source": [
    "### Interactive Prototype "
   ]
  },
  {
   "cell_type": "code",
   "execution_count": 7,
   "id": "07fed9f3",
   "metadata": {},
   "outputs": [],
   "source": [
    "API_key = \"26b79da11d43455e86c5c0b3a1ea4c41\"\n",
    "\n",
    "def getUserEntry(): #a function that gets the infromation fron the entry and stores it into a seperate variable\n",
    "    def ing_get():\n",
    "        recipe_ans = recipe_answer.get()\n",
    "        temp_id = recipe_dict.get(recipe_ans)\n",
    "        source = requests.get(f\"https://api.spoonacular.com/recipes/{temp_id}/ingredientWidget?apiKey={API_key}\").text\n",
    "        soup = BeautifulSoup(source, \"lxml\")\n",
    "\n",
    "        big_section = soup.find(\"div\", id = 'spoonacular-ingredient-vis-list')\n",
    "\n",
    "        space_label = Label(root, text=\"\").pack()\n",
    "        preing_label= Label(root, text=\"Here is your Shopping List!\", font=\"bold\").pack()\n",
    "        space_label = Label(root, text=\"\").pack()\n",
    "        \n",
    "        for i in big_section.find_all(\"div\", class_=\"spoonacular-ingredient-list\"):\n",
    "            ingredient1 = i.find(\"div\", class_= \"spoonacular-amount spoonacular-us\").text\n",
    "            ingredient2 = i.find(\"div\", class_= \"spoonacular-name\").text\n",
    "            joined = ingredient1 + \" \" + ingredient2\n",
    "            ing_label = Label(root, text=joined).pack()\n",
    "\n",
    "        big_section2 = soup.find(\"div\", class_ = \"spoonacular-ingredients-menu\")\n",
    "\n",
    "        big_big_section2 = big_section2.find(\"div\", style = \"float:left;width:140px;margin-left:20px;line-height:24px\")\n",
    "        servings = big_big_section2.find(\"span\", id = \"spoonacular-serving-stepper-initial\").text\n",
    "        joined2 = \"Servings: \" + servings\n",
    "        serv_label = Label(root, text=joined2).pack()\n",
    "\n",
    "    global recipe_input\n",
    "    recipe_input = user_entry1.get()\n",
    "    \n",
    "    recipe_dict = {}\n",
    "    count = 1\n",
    "    spoonacular = requests.get(f\"https://api.spoonacular.com/recipes/complexSearch?query={recipe_input}&apiKey={API_key}\")\n",
    "    json_file = spoonacular.json()\n",
    "    \n",
    "    intext = json_file['results']\n",
    "\n",
    "    for i in intext:\n",
    "        recipe_scrape = i[\"title\"]\n",
    "        id_scrape = i[\"id\"]\n",
    "        temp_dict = {recipe_scrape: id_scrape}\n",
    "        recipe_dict.update(temp_dict)\n",
    "        \n",
    "    name_list = list(recipe_dict.keys())\n",
    "    \n",
    "    result_label = Label(root, text=\"Here are your results! Please choose one!\").pack()\n",
    "    \n",
    "    for i in name_list:\n",
    "        rad_button = Radiobutton(root, text=i, variable=recipe_answer, value=i, command=ing_get)\n",
    "        rad_button.pack()\n",
    "\n",
    "\n",
    "root = Tk() #root widget\n",
    "root.geometry(\"700x1000\") #set the window size\n",
    "root.title(\"MealMap\")\n",
    "root.configure(background='light yellow')\n",
    "\n",
    "recipe_answer = StringVar()\n",
    "\n",
    "intro_text = Label(root, text=\"Welcome to MealMap!\", font=(\"Georgia\",\"16\", \"bold\"),).pack(padx=0,pady=25)\n",
    "direction_text = Label(root, text=\"What recipe you would like to make an ingredient list for?\", font=(\"Georgia\",\"14\",\"italic\")).pack()\n",
    "user_entry1 = Entry(root,width=40)\n",
    "user_entry1.pack(padx=0,pady=25)\n",
    "\n",
    "ttk.Button(root, text= \"Search\", command= getUserEntry).place(relx= .72, rely= .18) #creates a button that starts the getUserEntry function\n",
    "\n",
    "root.mainloop()"
   ]
  },
  {
   "cell_type": "code",
   "execution_count": null,
   "id": "74adc8b2",
   "metadata": {},
   "outputs": [],
   "source": []
  }
 ],
 "metadata": {
  "kernelspec": {
   "display_name": "Python 3 (ipykernel)",
   "language": "python",
   "name": "python3"
  },
  "language_info": {
   "codemirror_mode": {
    "name": "ipython",
    "version": 3
   },
   "file_extension": ".py",
   "mimetype": "text/x-python",
   "name": "python",
   "nbconvert_exporter": "python",
   "pygments_lexer": "ipython3",
   "version": "3.9.12"
  }
 },
 "nbformat": 4,
 "nbformat_minor": 5
}
